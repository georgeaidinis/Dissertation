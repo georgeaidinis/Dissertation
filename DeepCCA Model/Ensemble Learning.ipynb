{
 "cells": [
  {
   "cell_type": "markdown",
   "id": "3049ae01-184d-4501-abfe-0f2262d53200",
   "metadata": {},
   "source": [
    "# Ensemble Learning Tests:"
   ]
  },
  {
   "cell_type": "markdown",
   "id": "d70249a4-75ac-492a-84f9-7185879a0235",
   "metadata": {},
   "source": [
    "Ensemble Learning is the method of using multiple models to figure out the multi-class classification problem.\n",
    "\n",
    "There are a few approaches to this. The main 2 categories of ensembling methods are averaging and boosting.\n",
    "\n",
    "We are going to explore approaches from both categories."
   ]
  },
  {
   "cell_type": "markdown",
   "id": "47b26726-0393-45ab-8620-0a6e1b0b8a96",
   "metadata": {},
   "source": [
    "## Averaging Methods:"
   ]
  },
  {
   "cell_type": "markdown",
   "id": "b466393c-9f6d-4c04-827b-dc386dc0d664",
   "metadata": {},
   "source": [
    "From SKLearn site:\n",
    "\n",
    "In averaging methods, the driving principle is to build several estimators independently and then to average their predictions. \n",
    "On average, the combined estimator is usually better than any of the single base estimator because its variance is reduced."
   ]
  },
  {
   "cell_type": "markdown",
   "id": "4abef502-8ff9-43fe-b054-c7db6054d243",
   "metadata": {},
   "source": [
    "### Bagging:"
   ]
  },
  {
   "cell_type": "code",
   "execution_count": null,
   "id": "8ef4cef3-4330-4fed-a3d3-d7e4add0d1f8",
   "metadata": {},
   "outputs": [],
   "source": [
    "from sklearn.ensemble import BaggingClassifier"
   ]
  }
 ],
 "metadata": {
  "kernelspec": {
   "display_name": "Python 3 (ipykernel)",
   "language": "python",
   "name": "python3"
  },
  "language_info": {
   "codemirror_mode": {
    "name": "ipython",
    "version": 3
   },
   "file_extension": ".py",
   "mimetype": "text/x-python",
   "name": "python",
   "nbconvert_exporter": "python",
   "pygments_lexer": "ipython3",
   "version": "3.8.12"
  }
 },
 "nbformat": 4,
 "nbformat_minor": 5
}
