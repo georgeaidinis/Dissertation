{
 "cells": [
  {
   "cell_type": "markdown",
   "id": "3555a204",
   "metadata": {},
   "source": [
    "# Testing of the Deep CCA method"
   ]
  },
  {
   "cell_type": "markdown",
   "id": "6e701d56",
   "metadata": {},
   "source": [
    "### Importing necessary packages:"
   ]
  },
  {
   "cell_type": "code",
   "execution_count": 6,
   "id": "2f4ad601",
   "metadata": {},
   "outputs": [],
   "source": [
    "import torch\n",
    "import torch.nn as nn\n",
    "import numpy as np\n",
    "from DeepCCA.linear_cca import linear_cca\n",
    "from torch.utils.data import BatchSampler, SequentialSampler\n",
    "from DeepCCA.DeepCCAModels import DeepCCA\n",
    "from DeepCCA.main import Solver\n",
    "from DeepCCA.utils import load_data, svm_classify\n",
    "try:\n",
    "    import cPickle as thepickle\n",
    "except ImportError:\n",
    "    import _pickle as thepickle\n",
    "\n",
    "import gzip\n",
    "\n",
    "torch.set_default_tensor_type(torch.DoubleTensor)"
   ]
  },
  {
   "cell_type": "markdown",
   "id": "93185817",
   "metadata": {},
   "source": [
    "### Parameters:"
   ]
  },
  {
   "cell_type": "code",
   "execution_count": null,
   "id": "3329df81",
   "metadata": {},
   "outputs": [],
   "source": [
    "    "
   ]
  }
 ],
 "metadata": {
  "kernelspec": {
   "display_name": "Python 3 (ipykernel)",
   "language": "python",
   "name": "python3"
  },
  "language_info": {
   "codemirror_mode": {
    "name": "ipython",
    "version": 3
   },
   "file_extension": ".py",
   "mimetype": "text/x-python",
   "name": "python",
   "nbconvert_exporter": "python",
   "pygments_lexer": "ipython3",
   "version": "3.8.12"
  }
 },
 "nbformat": 4,
 "nbformat_minor": 5
}
