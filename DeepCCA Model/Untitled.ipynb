{
 "cells": [
  {
   "cell_type": "markdown",
   "id": "6b3dc9e5-4207-4597-b552-3a5ee673396b",
   "metadata": {},
   "source": [
    "# Testing for the loss:"
   ]
  },
  {
   "cell_type": "code",
   "execution_count": 2,
   "id": "9046c191-76c1-4a4b-99ea-20c2093f83a7",
   "metadata": {},
   "outputs": [],
   "source": [
    "import numpy as np\n",
    "from sklearn.cross_decomposition import CCA\n",
    "import pandas as pd\n",
    "import matplotlib.pyplot as plt\n",
    "import random\n",
    "import torch\n",
    "import torch.nn as nn\n",
    "from linear_cca import linear_cca\n",
    "from torch.utils.data import BatchSampler, SequentialSampler\n",
    "from DeepCCAModels import DeepCCA\n",
    "from main import Solver\n",
    "from utils import load_data, svm_classify\n",
    "from objectives import cca_loss\n",
    "try:\n",
    "    import cPickle as thepickle\n",
    "except ImportError:\n",
    "    import _pickle as thepickle\n",
    "import pickle\n",
    "from sklearn import svm\n",
    "from sklearn.metrics import accuracy_score\n",
    "from sklearn.metrics import f1_score\n",
    "import sklearn.model_selection as model_selection\n",
    "from sklearn.model_selection import cross_val_score\n",
    "from sklearn.model_selection import GridSearchCV\n",
    "import pprint"
   ]
  },
  {
   "cell_type": "code",
   "execution_count": 39,
   "id": "44ab535f-5378-49f0-97af-8a41b39464aa",
   "metadata": {},
   "outputs": [],
   "source": [
    "U = np.random.random_sample(1000).reshape(250,4)\n",
    "V = np.random.random_sample(2000).reshape(250,8)"
   ]
  },
  {
   "cell_type": "code",
   "execution_count": 67,
   "id": "f0c8cfc1-bfd8-490d-984b-2a79e7808dca",
   "metadata": {},
   "outputs": [
    {
     "name": "stdout",
     "output_type": "stream",
     "text": [
      "(250, 2)\n",
      "(250, 2)\n"
     ]
    }
   ],
   "source": [
    "n_comps = 2\n",
    "cca = CCA(n_components=n_comps)\n",
    "U_c, V_c = cca.fit_transform(U, V)\n",
    "\n",
    "print(U_c.shape)\n",
    "print(V_c.shape)\n",
    "result1 = np.corrcoef(U_c.T, V_c.T).diagonal(offset=n_comps)\n",
    "\n",
    "l_cca = linear_cca()\n",
    "l_cca.fit(U,V,n_comps)\n",
    "result2 = np.corrcoef(l_cca.w[0], l_cca.w[1]).diagonal(offset=n_comps)\n"
   ]
  },
  {
   "cell_type": "code",
   "execution_count": 72,
   "id": "e83f4704-a0f7-4fcc-a5e9-6aeb4a58358f",
   "metadata": {},
   "outputs": [
    {
     "name": "stdout",
     "output_type": "stream",
     "text": [
      "(250, 2)\n",
      "[[-0.71332072  2.7072226 ]\n",
      " [-0.99586308 -1.44816906]\n",
      " [ 2.28904399  1.5038527 ]\n",
      " [-2.44727386  1.06529966]]\n"
     ]
    }
   ],
   "source": [
    "print(U_c.shape)\n",
    "print(l_cca.w[0])"
   ]
  },
  {
   "cell_type": "code",
   "execution_count": 69,
   "id": "8e0ea2cd-d66e-4475-90da-b5a124259a75",
   "metadata": {},
   "outputs": [
    {
     "name": "stdout",
     "output_type": "stream",
     "text": [
      "[0.26388644 0.18864053]\n",
      "[[ 1. -1. -1.  1. -1. -1.  1. -1. -1.  1.  1.  1.]\n",
      " [-1.  1.  1. -1.  1.  1. -1.  1.  1. -1. -1. -1.]\n",
      " [-1.  1.  1. -1.  1.  1. -1.  1.  1. -1. -1. -1.]\n",
      " [ 1. -1. -1.  1. -1. -1.  1. -1. -1.  1.  1.  1.]\n",
      " [-1.  1.  1. -1.  1.  1. -1.  1.  1. -1. -1. -1.]\n",
      " [-1.  1.  1. -1.  1.  1. -1.  1.  1. -1. -1. -1.]\n",
      " [ 1. -1. -1.  1. -1. -1.  1. -1. -1.  1.  1.  1.]\n",
      " [-1.  1.  1. -1.  1.  1. -1.  1.  1. -1. -1. -1.]\n",
      " [-1.  1.  1. -1.  1.  1. -1.  1.  1. -1. -1. -1.]\n",
      " [ 1. -1. -1.  1. -1. -1.  1. -1. -1.  1.  1.  1.]\n",
      " [ 1. -1. -1.  1. -1. -1.  1. -1. -1.  1.  1.  1.]\n",
      " [ 1. -1. -1.  1. -1. -1.  1. -1. -1.  1.  1.  1.]]\n"
     ]
    }
   ],
   "source": [
    "print(result1)\n",
    "print(result2)"
   ]
  },
  {
   "cell_type": "code",
   "execution_count": null,
   "id": "76eb4c9a-eb59-4bff-a7c6-f356228e999c",
   "metadata": {},
   "outputs": [],
   "source": []
  }
 ],
 "metadata": {
  "kernelspec": {
   "display_name": "Python 3 (ipykernel)",
   "language": "python",
   "name": "python3"
  },
  "language_info": {
   "codemirror_mode": {
    "name": "ipython",
    "version": 3
   },
   "file_extension": ".py",
   "mimetype": "text/x-python",
   "name": "python",
   "nbconvert_exporter": "python",
   "pygments_lexer": "ipython3",
   "version": "3.8.12"
  }
 },
 "nbformat": 4,
 "nbformat_minor": 5
}
