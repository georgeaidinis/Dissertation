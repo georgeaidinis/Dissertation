{
 "cells": [
  {
   "cell_type": "markdown",
   "id": "6b3dc9e5-4207-4597-b552-3a5ee673396b",
   "metadata": {},
   "source": [
    "# Testing for the loss:"
   ]
  },
  {
   "cell_type": "code",
   "execution_count": 109,
   "id": "9046c191-76c1-4a4b-99ea-20c2093f83a7",
   "metadata": {},
   "outputs": [],
   "source": [
    "import numpy as np\n",
    "from sklearn.cross_decomposition import CCA\n",
    "import pandas as pd\n",
    "import matplotlib.pyplot as plt\n",
    "import random\n",
    "import torch\n",
    "import torch.nn as nn\n",
    "from linear_cca import linear_cca\n",
    "from torch.utils.data import BatchSampler, SequentialSampler\n",
    "from DeepCCAModels import DeepCCA\n",
    "from main import Solver\n",
    "from utils import load_data, svm_classify\n",
    "from objectives import cca_loss\n",
    "try:\n",
    "    import cPickle as thepickle\n",
    "except ImportError:\n",
    "    import _pickle as thepickle\n",
    "import pickle\n",
    "from sklearn import svm\n",
    "from sklearn.metrics import accuracy_score\n",
    "from sklearn.metrics import f1_score\n",
    "import sklearn.model_selection as model_selection\n",
    "from sklearn.model_selection import cross_val_score\n",
    "from sklearn.model_selection import GridSearchCV\n",
    "import pprint"
   ]
  },
  {
   "cell_type": "code",
   "execution_count": 110,
   "id": "44ab535f-5378-49f0-97af-8a41b39464aa",
   "metadata": {},
   "outputs": [],
   "source": [
    "U = np.random.random_sample(10000).reshape(250,40)\n",
    "V = np.random.random_sample(10000).reshape(250,40)"
   ]
  },
  {
   "cell_type": "code",
   "execution_count": 129,
   "id": "f0c8cfc1-bfd8-490d-984b-2a79e7808dca",
   "metadata": {
    "scrolled": true
   },
   "outputs": [
    {
     "name": "stdout",
     "output_type": "stream",
     "text": [
      "(250, 10) (250, 10)\n",
      "(250, 10) (250, 10)\n"
     ]
    }
   ],
   "source": [
    "# Get the first n components:\n",
    "n_comps = 10\n",
    "cca = CCA(n_components=n_comps)\n",
    "U_c_1, V_c_1 = cca.fit_transform(U, V) # Fits and transforms\n",
    "print(U_c_1.shape, V_c_1.shape)\n",
    "result1 = np.corrcoef(U_c_1.T, V_c_1.T).diagonal(offset=n_comps) # find how similar the respective components are\n",
    "\n",
    "l_cca = linear_cca()\n",
    "l_cca.fit(U,V,n_comps) # Fits, saves the transformation materices (= the weights the matrices should be multiplied with) to obj\n",
    "U_c_2, V_c_2 = np.matmul(U, l_cca.w[0]), np.matmul(V, l_cca.w[1]) # get the transformed matrices by multiplying\n",
    "print(U_c_2.shape, V_c_2.shape)\n",
    "result2 = np.corrcoef(U_c_2.T, V_c_2.T).diagonal(offset=n_comps) # find how similar the respective components are\n"
   ]
  },
  {
   "cell_type": "code",
   "execution_count": 130,
   "id": "8e0ea2cd-d66e-4475-90da-b5a124259a75",
   "metadata": {},
   "outputs": [
    {
     "name": "stdout",
     "output_type": "stream",
     "text": [
      "result1 shape: (10,)\n",
      "result2 shape: (10,)\n",
      "result1: [0.73237705 0.7199459  0.71436048 0.67332589 0.65441498 0.61007048\n",
      " 0.59099732 0.55817217 0.5544709  0.53278441]\n",
      "result2: [0.73238195 0.71996561 0.71433531 0.67333231 0.65440846 0.61007296\n",
      " 0.59099479 0.55819154 0.55445301 0.53278184]\n",
      "6.3409195866105605\n",
      "6.340917781691015\n",
      "SKL cca score: 0.0663523194219422\n"
     ]
    }
   ],
   "source": [
    "print(\"result1 shape:\",result1.shape)\n",
    "print(\"result2 shape:\",result2.shape)\n",
    "print(\"result1:\", result1)\n",
    "print(\"result2:\", result2)\n",
    "print(sum(result1))\n",
    "print(sum(result2))\n",
    "print(\"SKL cca score:\",cca.score(U, V))"
   ]
  },
  {
   "cell_type": "code",
   "execution_count": 113,
   "id": "b360dba9",
   "metadata": {},
   "outputs": [
    {
     "name": "stdout",
     "output_type": "stream",
     "text": [
      "tensor(-16.3168)\n"
     ]
    }
   ],
   "source": [
    "c_loss = cca_loss(10, True, torch.device('cpu'))\n",
    "correlation = c_loss.loss(torch.from_numpy(U),torch.from_numpy(V))\n",
    "print(correlation)"
   ]
  }
 ],
 "metadata": {
  "kernelspec": {
   "display_name": "Python 3 (ipykernel)",
   "language": "python",
   "name": "python3"
  },
  "language_info": {
   "codemirror_mode": {
    "name": "ipython",
    "version": 3
   },
   "file_extension": ".py",
   "mimetype": "text/x-python",
   "name": "python",
   "nbconvert_exporter": "python",
   "pygments_lexer": "ipython3",
   "version": "3.8.12"
  }
 },
 "nbformat": 4,
 "nbformat_minor": 5
}
