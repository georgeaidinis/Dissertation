{
 "cells": [
  {
   "cell_type": "markdown",
   "id": "6b3dc9e5-4207-4597-b552-3a5ee673396b",
   "metadata": {},
   "source": [
    "# Testing for the loss:"
   ]
  },
  {
   "cell_type": "code",
   "execution_count": 1,
   "id": "9046c191-76c1-4a4b-99ea-20c2093f83a7",
   "metadata": {},
   "outputs": [],
   "source": [
    "import numpy as np\n",
    "from sklearn.cross_decomposition import CCA\n",
    "import pandas as pd\n",
    "import matplotlib.pyplot as plt\n",
    "import random\n",
    "import torch\n",
    "import torch.nn as nn\n",
    "from linear_cca import linear_cca\n",
    "from torch.utils.data import BatchSampler, SequentialSampler\n",
    "from DeepCCAModels import DeepCCA\n",
    "from main import Solver\n",
    "from utils import load_data, svm_classify\n",
    "from objectives import cca_loss\n",
    "try:\n",
    "    import cPickle as thepickle\n",
    "except ImportError:\n",
    "    import _pickle as thepickle\n",
    "import pickle\n",
    "from sklearn import svm\n",
    "from sklearn.metrics import accuracy_score\n",
    "from sklearn.metrics import f1_score\n",
    "import sklearn.model_selection as model_selection\n",
    "from sklearn.model_selection import cross_val_score\n",
    "from sklearn.model_selection import GridSearchCV\n",
    "import pprint"
   ]
  },
  {
   "cell_type": "code",
   "execution_count": 134,
   "id": "44ab535f-5378-49f0-97af-8a41b39464aa",
   "metadata": {},
   "outputs": [],
   "source": [
    "U = np.random.random_sample(1000).reshape(250,4)\n",
    "V = np.random.random_sample(1000).reshape(250,4)"
   ]
  },
  {
   "cell_type": "code",
   "execution_count": 138,
   "id": "f0c8cfc1-bfd8-490d-984b-2a79e7808dca",
   "metadata": {
    "scrolled": true
   },
   "outputs": [
    {
     "name": "stdout",
     "output_type": "stream",
     "text": [
      "(250, 4) (250, 4)\n",
      "(250, 4) (250, 4)\n"
     ]
    }
   ],
   "source": [
    "# Get the first n components:\n",
    "n_comps = 4\n",
    "cca = CCA(n_components=n_comps)\n",
    "U_c_1, V_c_1 = cca.fit_transform(U, V) # Fits and transforms\n",
    "print(U_c_1.shape, V_c_1.shape)\n",
    "result1 = np.corrcoef(U_c_1.T, V_c_1.T).diagonal(offset=n_comps) # find how similar the respective components are\n",
    "\n",
    "l_cca = linear_cca()\n",
    "l_cca.fit(U,V,n_comps) # Fits, saves the transformation materices (= the weights the matrices should be multiplied with) to obj\n",
    "U_c_2, V_c_2 = np.matmul(U, l_cca.w[0]), np.matmul(V, l_cca.w[1]) # get the transformed matrices by multiplying\n",
    "print(U_c_2.shape, V_c_2.shape)\n",
    "result2 = np.corrcoef(U_c_2.T, V_c_2.T).diagonal(offset=n_comps) # find how similar the respective components are\n"
   ]
  },
  {
   "cell_type": "code",
   "execution_count": 139,
   "id": "8e0ea2cd-d66e-4475-90da-b5a124259a75",
   "metadata": {},
   "outputs": [
    {
     "name": "stdout",
     "output_type": "stream",
     "text": [
      "(4,)\n",
      "(4,)\n",
      "[0.20991527 0.1092148  0.07499298 0.01589737]\n",
      "[0.20991526 0.10921481 0.07499297 0.01589737]\n",
      "-0.7936051756545341\n",
      "-0.3383723323179895\n"
     ]
    }
   ],
   "source": [
    "print(result1.shape)\n",
    "print(result2.shape)\n",
    "print(result1)\n",
    "print(result2)\n",
    "print(cca.score(U, V))\n",
    "print(cca.score(U, V_c_1))"
   ]
  },
  {
   "cell_type": "code",
   "execution_count": 140,
   "id": "b360dba9",
   "metadata": {},
   "outputs": [
    {
     "name": "stdout",
     "output_type": "stream",
     "text": [
      "tensor(-0.4874)\n"
     ]
    }
   ],
   "source": [
    "c_loss = cca_loss(4, True, torch.device('cpu'))\n",
    "correlation = c_loss.loss(torch.from_numpy(U),torch.from_numpy(V))\n",
    "print(correlation)"
   ]
  }
 ],
 "metadata": {
  "kernelspec": {
   "display_name": "Python 3 (ipykernel)",
   "language": "python",
   "name": "python3"
  },
  "language_info": {
   "codemirror_mode": {
    "name": "ipython",
    "version": 3
   },
   "file_extension": ".py",
   "mimetype": "text/x-python",
   "name": "python",
   "nbconvert_exporter": "python",
   "pygments_lexer": "ipython3",
   "version": "3.8.12"
  }
 },
 "nbformat": 4,
 "nbformat_minor": 5
}
