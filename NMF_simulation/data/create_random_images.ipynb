{
 "cells": [
  {
   "cell_type": "markdown",
   "id": "d96259b9",
   "metadata": {},
   "source": [
    "# Code for Creating the dataset for the NMF Simulation"
   ]
  },
  {
   "cell_type": "code",
   "execution_count": 7,
   "id": "b516e05e",
   "metadata": {},
   "outputs": [],
   "source": [
    "import numpy as np\n",
    "import matplotlib.pyplot as plt\n",
    "from matplotlib.pyplot import imshow, imsave\n",
    "import random\n",
    "import os\n",
    "\n",
    "plt.rcParams['figure.figsize'] = [10, 6]\n",
    "plt.rcParams['figure.dpi'] = 100 # 200 e.g. is really fine, but slower"
   ]
  },
  {
   "cell_type": "markdown",
   "id": "29961ec6",
   "metadata": {},
   "source": [
    "### Declaring helper functions"
   ]
  },
  {
   "cell_type": "code",
   "execution_count": 114,
   "id": "9a18e982",
   "metadata": {},
   "outputs": [],
   "source": [
    "def atrophy_simulation(image, center, radius, intensity_drop):\n",
    "    # Return the image denoised in an area, which is a disk of radius n and center.\n",
    "    x,y = center\n",
    "    for i in range(x-radius,x+radius):\n",
    "        for j in range(y-radius,y+radius):\n",
    "            if (x-i)**2 + (y-j)**2 <= radius**2:\n",
    "                image[i,j] = image[i,j]*(1-intensity_drop)\n",
    "    return image"
   ]
  },
  {
   "cell_type": "markdown",
   "id": "d74d5b62",
   "metadata": {},
   "source": [
    "### Create the noisy images"
   ]
  },
  {
   "cell_type": "code",
   "execution_count": 147,
   "id": "d04eb91f",
   "metadata": {},
   "outputs": [],
   "source": [
    "images = []\n",
    "for i in range(1000):\n",
    "    a = np.zeros((100,100))\n",
    "    for (x,y), value in np.ndenumerate(a):\n",
    "        a[x,y] = random.gauss(180, 15)\n",
    "        if a[x,y] < 0:\n",
    "            a[x,y] = 0\n",
    "        elif a[x,y] > 255:\n",
    "            a[x,y] = 255\n",
    "    images.append(a)"
   ]
  },
  {
   "cell_type": "markdown",
   "id": "3d7a7932",
   "metadata": {},
   "source": [
    "### Remove the noise in specific areas"
   ]
  },
  {
   "cell_type": "code",
   "execution_count": 148,
   "id": "f329cdbb",
   "metadata": {},
   "outputs": [],
   "source": [
    "# R1 subtype: (~10% intensity reduction in R1 disc, 2 possible locations)            => 450 samples (225,225)\n",
    "# R2 subtype: (~20% intensity reduction in R2 disc, overlapping with R1 subtype)     => 350 samples (175,175)\n",
    "# R3 subtype: (~30% intensity reduction in R3 disc, overlapping with R1,R2 subtype)  => 200 samples (100,100)\n",
    "\n",
    "R1 = 15\n",
    "R2 = 10\n",
    "R3 = 5\n",
    "\n",
    "all_indexes = [x for x in range(1000)]\n",
    "R1_A_indexes = random.sample(all_indexes, 225)\n",
    "remaining_indexes = [x for x in all_indexes if x not in R1_A_indexes]\n",
    "R1_B_indexes = random.sample(remaining_indexes, 225)\n",
    "remaining_indexes = [x for x in remaining_indexes if x not in R1_B_indexes]\n",
    "R1R2_A_indexes = random.sample(remaining_indexes, 175)\n",
    "remaining_indexes = [x for x in remaining_indexes if x not in R1R2_A_indexes]\n",
    "R1R2_B_indexes = random.sample(remaining_indexes, 175)\n",
    "remaining_indexes = [x for x in remaining_indexes if x not in R1R2_B_indexes]\n",
    "R1R2R3_A_indexes = random.sample(remaining_indexes, 100)\n",
    "remaining_indexes = [x for x in remaining_indexes if x not in R1R2R3_A_indexes]\n",
    "R1R2R3_B_indexes = random.sample(remaining_indexes, 100)\n",
    "\n",
    "\n",
    "# Create R1 source A:\n",
    "for i in R1_A_indexes:\n",
    "    # Choose a random intensity between 8 and 11 %:\n",
    "    atroph = random.choice([0.08, 0.09, 0.1 ,0.11])\n",
    "    r1_a = atrophy_simulation(images[i], (25,25), R1, atroph)\n",
    "    imsave(str(i)+\"_R1_A_\"+str(int(atroph*100))+\".jpg\", r1_a, cmap = 'gray', vmin=0, vmax=255)\n",
    "\n",
    "\n",
    "\n",
    "# Create R1 source B:\n",
    "for i in R1_B_indexes:\n",
    "    # Choose a random intensity between 8 and 11 %:\n",
    "    atroph = random.choice([0.08, 0.09, 0.1 ,0.11])\n",
    "    r1_b = atrophy_simulation(images[i], (60,60), R1, atroph)\n",
    "    imsave(str(i)+\"_R1_B_\"+str(int(atroph*100))+\".jpg\", r1_b, cmap = 'gray', vmin=0, vmax=255)\n",
    "\n",
    "\n",
    "\n",
    "# Create R1R2 source A:\n",
    "for i in R1R2_A_indexes:\n",
    "    # Choose a random intensity between 8 and 11 %:\n",
    "    atroph1 = random.choice([0.08, 0.09, 0.1 ,0.11])\n",
    "    r1_a = atrophy_simulation(images[i], (25,25), R1, atroph1)\n",
    "    # Choose a random intensity between 18 and 21 %:\n",
    "    atroph2 = random.choice([0.18, 0.19, 0.2 ,0.21])\n",
    "    r1r2_a = atrophy_simulation(r1_a, (25,25), R2, atroph2 - atroph1)\n",
    "    imsave(str(i)+\"_R1R2_A_\"+str(int(atroph1*100))+\"_\"+str(int(atroph2*100))+\".jpg\", r1r2_a, cmap = 'gray', vmin=0, vmax=255)\n",
    "\n",
    "\n",
    "\n",
    "# Create R1R2 source B:\n",
    "for i in R1R2_B_indexes:\n",
    "    # Choose a random intensity between 8 and 11 %:\n",
    "    atroph1 = random.choice([0.08, 0.09, 0.1 ,0.11])\n",
    "    r1_b = atrophy_simulation(images[i], (60,60), R1, atroph1)\n",
    "    # Choose a random intensity between 18 and 21 %:\n",
    "    atroph2 = random.choice([0.18, 0.19, 0.2 ,0.21])\n",
    "    r1r2_b = atrophy_simulation(r1_b, (60,60), R2, atroph2 - atroph1)\n",
    "    imsave(str(i)+\"_R1R2_B_\"+str(int(atroph1*100))+\"_\"+str(int(atroph2*100))+\".jpg\", r1r2_b, cmap = 'gray', vmin=0, vmax=255)\n",
    "\n",
    "\n",
    "\n",
    "# Create R1R2R3 source A:\n",
    "for i in R1R2R3_A_indexes:\n",
    "    # Choose a random intensity between 8 and 11 %:\n",
    "    atroph1 = random.choice([0.08, 0.09, 0.1 ,0.11])\n",
    "    r1_a = atrophy_simulation(images[i], (25,25), R1, atroph1)\n",
    "    # Choose a random intensity between 18 and 21 %:\n",
    "    atroph2 = random.choice([0.18, 0.19, 0.2 ,0.21])\n",
    "    r1r2_a = atrophy_simulation(r1_a, (25,25), R2, atroph2 - atroph1)\n",
    "    # Choose a random intensity between 28 and 31 %:\n",
    "    atroph3 = random.choice([0.28, 0.29, 0.3 ,0.31])\n",
    "    r1r2r3_a = atrophy_simulation(r1r2_a, (25,25), R3, atroph3 - atroph2 + atroph1)    \n",
    "    imsave(str(i)+\"_R1R2R3_A_\"+str(int(atroph1*100))+\"_\"+str(int(atroph2*100))+\"_\"+str(int(atroph3*100))+\".jpg\", r1r2r3_a, cmap = 'gray', vmin=0, vmax=255)\n",
    "\n",
    "\n",
    "\n",
    "# Create R1R2R3 source B:\n",
    "for i in R1R2R3_B_indexes:\n",
    "    # Choose a random intensity between 8 and 11 %:\n",
    "    atroph1 = random.choice([0.08, 0.09, 0.1 ,0.11])\n",
    "    r1_b = atrophy_simulation(images[i], (60,60), R1, atroph1)\n",
    "    # Choose a random intensity between 18 and 21 %:\n",
    "    atroph2 = random.choice([0.18, 0.19, 0.2 ,0.21])\n",
    "    r1r2_b = atrophy_simulation(r1_b, (60,60), R2, atroph2)\n",
    "    # Choose a random intensity between 28 and 31 %:\n",
    "    atroph3 = random.choice([0.28, 0.29, 0.3 ,0.31])\n",
    "    r1r2r3_b = atrophy_simulation(r1r2_b, (60,60), R3, atroph3 - atroph2 + atroph1)\n",
    "    imsave(str(i)+\"_R1R2R3_B_\"+str(int(atroph1*100))+\"_\"+str(int(atroph2*100))+\"_\"+str(int(atroph3*100))+\".jpg\", r1r2r3_b, cmap = 'gray', vmin=0, vmax=255)"
   ]
  }
 ],
 "metadata": {
  "kernelspec": {
   "display_name": "Python 3",
   "language": "python",
   "name": "python3"
  },
  "language_info": {
   "codemirror_mode": {
    "name": "ipython",
    "version": 3
   },
   "file_extension": ".py",
   "mimetype": "text/x-python",
   "name": "python",
   "nbconvert_exporter": "python",
   "pygments_lexer": "ipython3",
   "version": "3.5.6"
  }
 },
 "nbformat": 4,
 "nbformat_minor": 5
}
