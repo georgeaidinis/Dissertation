{
 "cells": [
  {
   "cell_type": "markdown",
   "id": "6b3dc9e5-4207-4597-b552-3a5ee673396b",
   "metadata": {},
   "source": [
    "# Testing for the loss:"
   ]
  },
  {
   "cell_type": "code",
   "execution_count": 15,
   "id": "9046c191-76c1-4a4b-99ea-20c2093f83a7",
   "metadata": {},
   "outputs": [],
   "source": [
    "import numpy as np\n",
    "from sklearn.cross_decomposition import CCA\n",
    "import pandas as pd\n",
    "import matplotlib.pyplot as plt\n",
    "import random\n",
    "import torch\n",
    "import torch.nn as nn\n",
    "from linear_cca import linear_cca\n",
    "from torch.utils.data import BatchSampler, SequentialSampler\n",
    "from DeepCCAModels import DeepCCA\n",
    "from main import Solver\n",
    "from utils import load_data, svm_classify\n",
    "from objectives import cca_loss\n",
    "try:\n",
    "    import cPickle as thepickle\n",
    "except ImportError:\n",
    "    import _pickle as thepickle\n",
    "import pickle\n",
    "from sklearn import svm\n",
    "from sklearn.metrics import accuracy_score\n",
    "from sklearn.metrics import f1_score\n",
    "import sklearn.model_selection as model_selection\n",
    "from sklearn.model_selection import cross_val_score\n",
    "from sklearn.model_selection import GridSearchCV\n",
    "import pprint"
   ]
  },
  {
   "cell_type": "code",
   "execution_count": 98,
   "id": "44ab535f-5378-49f0-97af-8a41b39464aa",
   "metadata": {},
   "outputs": [],
   "source": [
    "U = np.random.random_sample(10000).reshape(250,40)\n",
    "V = np.random.random_sample(10000).reshape(250,40)"
   ]
  },
  {
   "cell_type": "code",
   "execution_count": 104,
   "id": "f0c8cfc1-bfd8-490d-984b-2a79e7808dca",
   "metadata": {
    "scrolled": true
   },
   "outputs": [
    {
     "name": "stdout",
     "output_type": "stream",
     "text": [
      "(250, 20) (250, 20)\n",
      "(250, 20) (250, 20)\n"
     ]
    }
   ],
   "source": [
    "# Get the first n components:\n",
    "n_comps = 20\n",
    "cca = CCA(n_components=n_comps)\n",
    "U_c_1, V_c_1 = cca.fit_transform(U, V) # Fits and transforms\n",
    "print(U_c_1.shape, V_c_1.shape)\n",
    "result1 = np.corrcoef(U_c_1.T, V_c_1.T).diagonal(offset=n_comps) # find how similar the respective components are\n",
    "\n",
    "l_cca = linear_cca()\n",
    "l_cca.fit(U,V,n_comps) # Fits, saves the transformation materices (= the weights the matrices should be multiplied with) to obj\n",
    "U_c_2, V_c_2 = np.matmul(U, l_cca.w[0]), np.matmul(V, l_cca.w[1]) # get the transformed matrices by multiplying\n",
    "print(U_c_2.shape, V_c_2.shape)\n",
    "result2 = np.corrcoef(U_c_2.T, V_c_2.T).diagonal(offset=n_comps) # find how similar the respective components are\n"
   ]
  },
  {
   "cell_type": "code",
   "execution_count": 105,
   "id": "8e0ea2cd-d66e-4475-90da-b5a124259a75",
   "metadata": {},
   "outputs": [
    {
     "name": "stdout",
     "output_type": "stream",
     "text": [
      "result1 shape: (20,)\n",
      "result2 shape: (20,)\n",
      "result1: [0.69367787 0.70100441 0.6654229  0.63941787 0.62874624 0.59500629\n",
      " 0.56979911 0.5544822  0.53399826 0.51698067 0.50523168 0.49150493\n",
      " 0.4765976  0.45756992 0.4448299  0.42383999 0.4077086  0.37960424\n",
      " 0.36477746 0.34745765]\n",
      "result2: [0.70101221 0.69367444 0.66541999 0.63942557 0.62873784 0.59500775\n",
      " 0.56979952 0.55448128 0.5339971  0.51698441 0.50522909 0.49150404\n",
      " 0.47659657 0.45757271 0.44482719 0.42384009 0.40770785 0.37960474\n",
      " 0.36477702 0.34745723]\n",
      "SKL cca score: 0.0224917383819401\n"
     ]
    }
   ],
   "source": [
    "print(\"result1 shape:\",result1.shape)\n",
    "print(\"result2 shape:\",result2.shape)\n",
    "print(\"result1:\", result1)\n",
    "print(\"result2:\", result2)\n",
    "print(\"SKL cca score:\",cca.score(U, V))"
   ]
  },
  {
   "cell_type": "code",
   "execution_count": 106,
   "id": "b360dba9",
   "metadata": {},
   "outputs": [
    {
     "name": "stdout",
     "output_type": "stream",
     "text": [
      "tensor(-15.7004)\n"
     ]
    }
   ],
   "source": [
    "c_loss = cca_loss(10, True, torch.device('cpu'))\n",
    "correlation = c_loss.loss(torch.from_numpy(U),torch.from_numpy(V))\n",
    "print(correlation)"
   ]
  },
  {
   "cell_type": "code",
   "execution_count": 107,
   "id": "5d1ce6b3-5bc9-4c86-bc97-dc3cc6968d19",
   "metadata": {},
   "outputs": [
    {
     "data": {
      "image/png": "[encoded data removed]",
      "text/plain": [
       "<Figure size 432x288 with 1 Axes>"
      ]
     },
     "metadata": {
      "needs_background": "light"
     },
     "output_type": "display_data"
    }
   ],
   "source": [
    "skl = []\n",
    "l = []\n",
    "obj = []\n",
    "for n_comps in list(range(2,41)):\n",
    "    cca = CCA(n_components=n_comps)\n",
    "    cca.fit(U, V)\n",
    "    skl.append(cca.score(U,V))\n",
    "\n",
    "plt.plot(list(range(2,41)), skl)\n",
    "plt.show()\n",
    "\n",
    "    \n",
    "\n"
   ]
  }
 ],
 "metadata": {
  "kernelspec": {
   "display_name": "Python 3 (ipykernel)",
   "language": "python",
   "name": "python3"
  },
  "language_info": {
   "codemirror_mode": {
    "name": "ipython",
    "version": 3
   },
   "file_extension": ".py",
   "mimetype": "text/x-python",
   "name": "python",
   "nbconvert_exporter": "python",
   "pygments_lexer": "ipython3",
   "version": "3.8.12"
  }
 },
 "nbformat": 4,
 "nbformat_minor": 5
}
